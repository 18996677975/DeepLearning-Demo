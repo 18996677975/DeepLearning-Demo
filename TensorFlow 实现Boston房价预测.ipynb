{
 "cells": [
  {
   "cell_type": "markdown",
   "metadata": {},
   "source": [
    "# 导入库"
   ]
  },
  {
   "cell_type": "code",
   "execution_count": 1,
   "metadata": {},
   "outputs": [
    {
     "name": "stdout",
     "output_type": "stream",
     "text": [
      "sys.version_info(major=3, minor=7, micro=4, releaselevel='final', serial=0)\n",
      "matplotlib的版本为：3.1.1\n",
      "numpy的版本为：1.16.5\n",
      "pandas的版本为：0.25.3\n",
      "sklearn的版本为：0.21.3\n",
      "tensorflow的版本为：2.0.0\n",
      "tensorflow_core.keras的版本为：2.2.4-tf\n"
     ]
    }
   ],
   "source": [
    "import tensorflow as tf\n",
    "import numpy as np\n",
    "import pandas as pd\n",
    "import matplotlib as mpl\n",
    "import matplotlib.pyplot as plt\n",
    "%matplotlib inline\n",
    "import sklearn\n",
    "import os\n",
    "import sys\n",
    "import time\n",
    "from tensorflow import keras\n",
    "\n",
    "print(sys.version_info)\n",
    "for module in mpl, np, pd, sklearn, tf, keras:\n",
    "    print(module.__name__ + \"的版本为：\" + module.__version__)"
   ]
  },
  {
   "cell_type": "markdown",
   "metadata": {},
   "source": [
    "# 读入数据"
   ]
  },
  {
   "cell_type": "code",
   "execution_count": 2,
   "metadata": {},
   "outputs": [
    {
     "name": "stdout",
     "output_type": "stream",
     "text": [
      ".. _california_housing_dataset:\n",
      "\n",
      "California Housing dataset\n",
      "--------------------------\n",
      "\n",
      "**Data Set Characteristics:**\n",
      "\n",
      "    :Number of Instances: 20640\n",
      "\n",
      "    :Number of Attributes: 8 numeric, predictive attributes and the target\n",
      "\n",
      "    :Attribute Information:\n",
      "        - MedInc        median income in block\n",
      "        - HouseAge      median house age in block\n",
      "        - AveRooms      average number of rooms\n",
      "        - AveBedrms     average number of bedrooms\n",
      "        - Population    block population\n",
      "        - AveOccup      average house occupancy\n",
      "        - Latitude      house block latitude\n",
      "        - Longitude     house block longitude\n",
      "\n",
      "    :Missing Attribute Values: None\n",
      "\n",
      "This dataset was obtained from the StatLib repository.\n",
      "http://lib.stat.cmu.edu/datasets/\n",
      "\n",
      "The target variable is the median house value for California districts.\n",
      "\n",
      "This dataset was derived from the 1990 U.S. census, using one row per census\n",
      "block group. A block group is the smallest geographical unit for which the U.S.\n",
      "Census Bureau publishes sample data (a block group typically has a population\n",
      "of 600 to 3,000 people).\n",
      "\n",
      "It can be downloaded/loaded using the\n",
      ":func:`sklearn.datasets.fetch_california_housing` function.\n",
      "\n",
      ".. topic:: References\n",
      "\n",
      "    - Pace, R. Kelley and Ronald Barry, Sparse Spatial Autoregressions,\n",
      "      Statistics and Probability Letters, 33 (1997) 291-297\n",
      "\n",
      "(20640, 8)\n",
      "(20640,)\n"
     ]
    }
   ],
   "source": [
    "from sklearn.datasets import fetch_california_housing\n",
    "\n",
    "housing = fetch_california_housing()\n",
    "print(housing.DESCR)\n",
    "print(housing.data.shape)\n",
    "print(housing.target.shape)"
   ]
  },
  {
   "cell_type": "markdown",
   "metadata": {},
   "source": [
    "# 查看数据"
   ]
  },
  {
   "cell_type": "code",
   "execution_count": 3,
   "metadata": {},
   "outputs": [],
   "source": [
    "# import pprint\n",
    "\n",
    "# pprint.pprint(housing.data[0:5])\n",
    "# pprint.pprint(housing.target[0:5])"
   ]
  },
  {
   "cell_type": "code",
   "execution_count": 4,
   "metadata": {},
   "outputs": [
    {
     "data": {
      "text/plain": [
       "(array([[ 8.32520000e+00,  4.10000000e+01,  6.98412698e+00,\n",
       "          1.02380952e+00,  3.22000000e+02,  2.55555556e+00,\n",
       "          3.78800000e+01, -1.22230000e+02],\n",
       "        [ 8.30140000e+00,  2.10000000e+01,  6.23813708e+00,\n",
       "          9.71880492e-01,  2.40100000e+03,  2.10984183e+00,\n",
       "          3.78600000e+01, -1.22220000e+02],\n",
       "        [ 7.25740000e+00,  5.20000000e+01,  8.28813559e+00,\n",
       "          1.07344633e+00,  4.96000000e+02,  2.80225989e+00,\n",
       "          3.78500000e+01, -1.22240000e+02],\n",
       "        [ 5.64310000e+00,  5.20000000e+01,  5.81735160e+00,\n",
       "          1.07305936e+00,  5.58000000e+02,  2.54794521e+00,\n",
       "          3.78500000e+01, -1.22250000e+02],\n",
       "        [ 3.84620000e+00,  5.20000000e+01,  6.28185328e+00,\n",
       "          1.08108108e+00,  5.65000000e+02,  2.18146718e+00,\n",
       "          3.78500000e+01, -1.22250000e+02]]),\n",
       " array([4.526, 3.585, 3.521, 3.413, 3.422]))"
      ]
     },
     "execution_count": 4,
     "metadata": {},
     "output_type": "execute_result"
    }
   ],
   "source": [
    "(housing.data[0:5], housing.target[0:5])"
   ]
  },
  {
   "cell_type": "markdown",
   "metadata": {},
   "source": [
    "# 数据拆分"
   ]
  },
  {
   "cell_type": "code",
   "execution_count": 5,
   "metadata": {},
   "outputs": [
    {
     "name": "stdout",
     "output_type": "stream",
     "text": [
      "(11610, 8) (11610,)\n",
      "(3870, 8) (3870,)\n",
      "(5160, 8) (5160,)\n"
     ]
    }
   ],
   "source": [
    "from sklearn.model_selection import train_test_split\n",
    "\n",
    "x_train_all, x_test, y_train_all, y_test = train_test_split(housing.data, housing.target, random_state = 7)\n",
    "x_train, x_valid, y_train, y_valid = train_test_split(x_train_all, y_train_all, random_state = 11)\n",
    "\n",
    "print(x_train.shape, y_train.shape)\n",
    "print(x_valid.shape, y_valid.shape)\n",
    "print(x_test.shape, y_test.shape)"
   ]
  },
  {
   "cell_type": "markdown",
   "metadata": {},
   "source": [
    "# 数据归一化处理"
   ]
  },
  {
   "cell_type": "code",
   "execution_count": 6,
   "metadata": {},
   "outputs": [],
   "source": [
    "from sklearn.preprocessing import StandardScaler\n",
    "\n",
    "scaler = StandardScaler()\n",
    "x_train_scaled = scaler.fit_transform(x_train)\n",
    "x_vaild_scaled = scaler.transform(x_valid)\n",
    "x_test_scaled = scaler.transform(x_test)"
   ]
  },
  {
   "cell_type": "markdown",
   "metadata": {},
   "source": [
    "# 搭建神经网络"
   ]
  },
  {
   "cell_type": "code",
   "execution_count": 7,
   "metadata": {},
   "outputs": [
    {
     "name": "stdout",
     "output_type": "stream",
     "text": [
      "Model: \"sequential\"\n",
      "_________________________________________________________________\n",
      "Layer (type)                 Output Shape              Param #   \n",
      "=================================================================\n",
      "dense (Dense)                (None, 60)                540       \n",
      "_________________________________________________________________\n",
      "dense_1 (Dense)              (None, 120)               7320      \n",
      "_________________________________________________________________\n",
      "dense_2 (Dense)              (None, 240)               29040     \n",
      "_________________________________________________________________\n",
      "dense_3 (Dense)              (None, 480)               115680    \n",
      "_________________________________________________________________\n",
      "dense_4 (Dense)              (None, 240)               115440    \n",
      "_________________________________________________________________\n",
      "dense_5 (Dense)              (None, 120)               28920     \n",
      "_________________________________________________________________\n",
      "dense_6 (Dense)              (None, 60)                7260      \n",
      "_________________________________________________________________\n",
      "dense_7 (Dense)              (None, 1)                 61        \n",
      "=================================================================\n",
      "Total params: 304,261\n",
      "Trainable params: 304,261\n",
      "Non-trainable params: 0\n",
      "_________________________________________________________________\n"
     ]
    }
   ],
   "source": [
    "model = tf.keras.Sequential(\n",
    "    [tf.keras.layers.Dense(60, activation = 'relu', input_shape = x_train.shape[1:]),\n",
    "     tf.keras.layers.Dense(120, activation = 'relu'),\n",
    "     tf.keras.layers.Dense(240, activation = 'relu'),\n",
    "     tf.keras.layers.Dense(480, activation = 'relu'),\n",
    "     tf.keras.layers.Dense(240, activation = 'relu'),\n",
    "     tf.keras.layers.Dense(120, activation = 'relu'),\n",
    "     tf.keras.layers.Dense(60, activation = 'relu'),\n",
    "     tf.keras.layers.Dense(1)]\n",
    ")\n",
    "\n",
    "model.summary()"
   ]
  },
  {
   "cell_type": "markdown",
   "metadata": {},
   "source": [
    "# 设置优化模型、损失函数、回调函数"
   ]
  },
  {
   "cell_type": "code",
   "execution_count": 8,
   "metadata": {},
   "outputs": [],
   "source": [
    "model.compile(optimizer = 'adam', loss = 'mse')\n",
    "\n",
    "callbacks = [keras.callbacks.EarlyStopping(patience = 5, min_delta = 1e-3)]"
   ]
  },
  {
   "cell_type": "markdown",
   "metadata": {},
   "source": [
    "# 模型训练"
   ]
  },
  {
   "cell_type": "code",
   "execution_count": 9,
   "metadata": {},
   "outputs": [
    {
     "name": "stdout",
     "output_type": "stream",
     "text": [
      "Train on 11610 samples, validate on 3870 samples\n",
      "Epoch 1/3000\n",
      "11610/11610 [==============================] - 5s 406us/sample - loss: 0.5854 - val_loss: 0.3889\n",
      "Epoch 2/3000\n",
      "11610/11610 [==============================] - 3s 257us/sample - loss: 0.3734 - val_loss: 0.3744\n",
      "Epoch 3/3000\n",
      "11610/11610 [==============================] - 4s 302us/sample - loss: 0.3446 - val_loss: 0.3658\n",
      "Epoch 4/3000\n",
      "11610/11610 [==============================] - 3s 274us/sample - loss: 0.3265 - val_loss: 0.3200\n",
      "Epoch 5/3000\n",
      "11610/11610 [==============================] - 3s 251us/sample - loss: 0.3147 - val_loss: 0.3286\n",
      "Epoch 6/3000\n",
      "11610/11610 [==============================] - 3s 279us/sample - loss: 0.3029 - val_loss: 0.3566\n",
      "Epoch 7/3000\n",
      "11610/11610 [==============================] - 3s 269us/sample - loss: 0.2958 - val_loss: 0.3758\n",
      "Epoch 8/3000\n",
      "11610/11610 [==============================] - 4s 309us/sample - loss: 0.2983 - val_loss: 0.3595\n",
      "Epoch 9/3000\n",
      "11610/11610 [==============================] - 3s 293us/sample - loss: 0.2877 - val_loss: 0.3030\n",
      "Epoch 10/3000\n",
      "11610/11610 [==============================] - 4s 323us/sample - loss: 0.2834 - val_loss: 0.3051\n",
      "Epoch 11/3000\n",
      "11610/11610 [==============================] - 3s 297us/sample - loss: 0.2664 - val_loss: 0.3046\n",
      "Epoch 12/3000\n",
      "11610/11610 [==============================] - 3s 282us/sample - loss: 0.2634 - val_loss: 0.3203\n",
      "Epoch 13/3000\n",
      "11610/11610 [==============================] - 4s 309us/sample - loss: 0.2644 - val_loss: 0.3017\n",
      "Epoch 14/3000\n",
      "11610/11610 [==============================] - 3s 300us/sample - loss: 0.2562 - val_loss: 0.2938\n",
      "Epoch 15/3000\n",
      "11610/11610 [==============================] - 4s 344us/sample - loss: 0.2470 - val_loss: 0.2918\n",
      "Epoch 16/3000\n",
      "11610/11610 [==============================] - 3s 263us/sample - loss: 0.2488 - val_loss: 0.3064\n",
      "Epoch 17/3000\n",
      "11610/11610 [==============================] - 3s 276us/sample - loss: 0.2443 - val_loss: 0.2908\n",
      "Epoch 18/3000\n",
      "11610/11610 [==============================] - 3s 260us/sample - loss: 0.2420 - val_loss: 0.2970\n",
      "Epoch 19/3000\n",
      "11610/11610 [==============================] - 4s 334us/sample - loss: 0.2330 - val_loss: 0.2804\n",
      "Epoch 20/3000\n",
      "11610/11610 [==============================] - 4s 313us/sample - loss: 0.2356 - val_loss: 0.2918\n",
      "Epoch 21/3000\n",
      "11610/11610 [==============================] - 3s 263us/sample - loss: 0.2308 - val_loss: 0.3216\n",
      "Epoch 22/3000\n",
      "11610/11610 [==============================] - 3s 245us/sample - loss: 0.2184 - val_loss: 0.2973\n",
      "Epoch 23/3000\n",
      "11610/11610 [==============================] - 3s 260us/sample - loss: 0.2183 - val_loss: 0.2946\n",
      "Epoch 24/3000\n",
      "11610/11610 [==============================] - 3s 269us/sample - loss: 0.2150 - val_loss: 0.2827\n"
     ]
    }
   ],
   "source": [
    "history = model.fit(x_train_scaled, y_train, validation_data = (x_vaild_scaled, y_valid), epochs = 3000, callbacks = callbacks)"
   ]
  },
  {
   "cell_type": "markdown",
   "metadata": {},
   "source": [
    "# 可视化loss值"
   ]
  },
  {
   "cell_type": "code",
   "execution_count": 10,
   "metadata": {},
   "outputs": [
    {
     "data": {
      "image/png": "[encoded data removed]",
      "text/plain": [
       "<Figure size 720x576 with 1 Axes>"
      ]
     },
     "metadata": {
      "needs_background": "light"
     },
     "output_type": "display_data"
    }
   ],
   "source": [
    "def plot_learning_curver(history):\n",
    "    pd.DataFrame(history.history).plot(figsize = (10, 8))\n",
    "    plt.grid(True)\n",
    "    plt.gca().set_ylim(0, 1)\n",
    "\n",
    "plot_learning_curver(history)"
   ]
  },
  {
   "cell_type": "markdown",
   "metadata": {},
   "source": [
    "# 测试集测试"
   ]
  },
  {
   "cell_type": "code",
   "execution_count": 11,
   "metadata": {},
   "outputs": [
    {
     "data": {
      "text/plain": [
       "0.2922197061453679"
      ]
     },
     "execution_count": 11,
     "metadata": {},
     "output_type": "execute_result"
    }
   ],
   "source": [
    "model.evaluate(x_test_scaled, y_test, verbose=0)"
   ]
  },
  {
   "cell_type": "code",
   "execution_count": null,
   "metadata": {},
   "outputs": [],
   "source": []
  }
 ],
 "metadata": {
  "kernelspec": {
   "display_name": "Python 3",
   "language": "python",
   "name": "python3"
  },
  "language_info": {
   "codemirror_mode": {
    "name": "ipython",
    "version": 3
   },
   "file_extension": ".py",
   "mimetype": "text/x-python",
   "name": "python",
   "nbconvert_exporter": "python",
   "pygments_lexer": "ipython3",
   "version": "3.7.4"
  },
  "toc": {
   "base_numbering": 1,
   "nav_menu": {},
   "number_sections": true,
   "sideBar": true,
   "skip_h1_title": false,
   "title_cell": "Table of Contents",
   "title_sidebar": "Contents",
   "toc_cell": false,
   "toc_position": {},
   "toc_section_display": true,
   "toc_window_display": false
  },
  "varInspector": {
   "cols": {
    "lenName": 16,
    "lenType": 16,
    "lenVar": 40
   },
   "kernels_config": {
    "python": {
     "delete_cmd_postfix": "",
     "delete_cmd_prefix": "del ",
     "library": "var_list.py",
     "varRefreshCmd": "print(var_dic_list())"
    },
    "r": {
     "delete_cmd_postfix": ") ",
     "delete_cmd_prefix": "rm(",
     "library": "var_list.r",
     "varRefreshCmd": "cat(var_dic_list()) "
    }
   },
   "types_to_exclude": [
    "module",
    "function",
    "builtin_function_or_method",
    "instance",
    "_Feature"
   ],
   "window_display": false
  }
 },
 "nbformat": 4,
 "nbformat_minor": 2
}
